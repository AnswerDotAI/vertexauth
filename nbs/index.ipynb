{
 "cells": [
  {
   "cell_type": "code",
   "execution_count": null,
   "metadata": {},
   "outputs": [],
   "source": [
    "#| hide\n",
    "from vertexauth.core import *"
   ]
  },
  {
   "cell_type": "markdown",
   "metadata": {},
   "source": [
    "# vertexauth\n",
    "\n",
    "> A helper library for accessing Google Vertex AI models, via `claudette` or `anthropic`"
   ]
  },
  {
   "cell_type": "markdown",
   "metadata": {},
   "source": [
    "## Usage"
   ]
  },
  {
   "cell_type": "markdown",
   "metadata": {},
   "source": [
    "### Installation"
   ]
  },
  {
   "cell_type": "markdown",
   "metadata": {},
   "source": [
    "Install latest from the GitHub [repository][repo]:\n",
    "\n",
    "```sh\n",
    "$ pip install git+https://github.com/AnswerDotAI/vertexauth.git\n",
    "```\n",
    "\n",
    "or from [conda][conda]\n",
    "\n",
    "```sh\n",
    "$ conda install -c AnswerDotAI vertexauth\n",
    "```\n",
    "\n",
    "or from [pypi][pypi]\n",
    "\n",
    "\n",
    "```sh\n",
    "$ pip install vertexauth\n",
    "```\n",
    "\n",
    "\n",
    "[repo]: https://github.com/AnswerDotAI/vertexauth\n",
    "[docs]: https://AnswerDotAI.github.io/vertexauth/\n",
    "[pypi]: https://pypi.org/project/vertexauth/\n",
    "[conda]: https://anaconda.org/AnswerDotAI/vertexauth"
   ]
  },
  {
   "cell_type": "markdown",
   "metadata": {},
   "source": [
    "### Documentation"
   ]
  },
  {
   "cell_type": "markdown",
   "metadata": {},
   "source": [
    "Documentation can be found hosted on this GitHub [repository][repo]'s [pages][docs]. Additionally you can find package manager specific guidelines on [conda][conda] and [pypi][pypi] respectively.\n",
    "\n",
    "[repo]: https://github.com/AnswerDotAI/vertexauth\n",
    "[docs]: https://AnswerDotAI.github.io/vertexauth/\n",
    "[pypi]: https://pypi.org/project/vertexauth/\n",
    "[conda]: https://anaconda.org/AnswerDotAI/vertexauth"
   ]
  },
  {
   "cell_type": "markdown",
   "metadata": {},
   "source": [
    "## How to use"
   ]
  },
  {
   "cell_type": "markdown",
   "metadata": {},
   "source": [
    "To use this library, you need install a \"superkey\" credential file in your `~/.config/vertexauth/default/superkey.json`.\n",
    "\n",
    "Then, you can do the following to get access to a `claudette.Client`, which is authenticated to use Anthropic's Sonnet 3.5 v2 model, hosted on Vertex AI and paid for by Google Cloud budget:"
   ]
  },
  {
   "cell_type": "code",
   "execution_count": null,
   "metadata": {},
   "outputs": [],
   "source": [
    "#|eval: false\n",
    "\n",
    "from vertexauth.core import get_claudette_client\n",
    "cl = get_claudette_client()"
   ]
  },
  {
   "cell_type": "code",
   "execution_count": null,
   "metadata": {},
   "outputs": [
    {
     "data": {
      "text/markdown": [
       "Hi! I'm happy to help. What would you like to discuss?\n",
       "\n",
       "<details>\n",
       "\n",
       "- id: `msg_vrtx_016Tu5UWnM6q6uzASTpr7BTV`\n",
       "- content: `[{'text': \"Hi! I'm happy to help. What would you like to discuss?\", 'type': 'text'}]`\n",
       "- model: `claude-3-5-sonnet-v2-20241022`\n",
       "- role: `assistant`\n",
       "- stop_reason: `end_turn`\n",
       "- stop_sequence: `None`\n",
       "- type: `message`\n",
       "- usage: `{'input_tokens': 11, 'output_tokens': 18}`\n",
       "\n",
       "</details>"
      ],
      "text/plain": [
       "Message(id='msg_vrtx_016Tu5UWnM6q6uzASTpr7BTV', content=[TextBlock(text=\"Hi! I'm happy to help. What would you like to discuss?\", type='text')], model='claude-3-5-sonnet-v2-20241022', role='assistant', stop_reason='end_turn', stop_sequence=None, type='message', usage=In: 11; Out: 18; Cache create: 0; Cache read: 0; Total: 29)"
      ]
     },
     "execution_count": null,
     "metadata": {},
     "output_type": "execute_result"
    }
   ],
   "source": [
    "#|eval: false\n",
    "\n",
    "cl(\"Hi, Claude!\")"
   ]
  },
  {
   "cell_type": "markdown",
   "metadata": {},
   "source": [
    "What is a superkey? It is merely a Google Cloud Service Account Key File, encoded in JSON, with a `region` key/value pair added.\n",
    "\n",
    "Please consult the notebook `00_core.ipynb` for a working example of creating a service account, creating a service account key, downloading the key file, and saving a superkey file into the default location."
   ]
  },
  {
   "cell_type": "code",
   "execution_count": null,
   "metadata": {},
   "outputs": [],
   "source": []
  }
 ],
 "metadata": {
  "kernelspec": {
   "display_name": "python3",
   "language": "python",
   "name": "python3"
  }
 },
 "nbformat": 4,
 "nbformat_minor": 4
}
