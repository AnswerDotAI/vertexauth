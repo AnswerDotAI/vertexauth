{
 "cells": [
  {
   "cell_type": "code",
   "execution_count": 1,
   "metadata": {},
   "outputs": [],
   "source": [
    "#| default_exp core"
   ]
  },
  {
   "cell_type": "markdown",
   "metadata": {},
   "source": [
    "# core\n",
    "\n",
    "> Tiny helper to authenticate Claudette to Vertex AI"
   ]
  },
  {
   "cell_type": "code",
   "execution_count": 1,
   "metadata": {},
   "outputs": [],
   "source": [
    "#| export\n",
    "import json, os\n",
    "from pathlib import Path\n",
    "from fastcore.utils import *\n",
    "\n",
    "from anthropic import AnthropicVertex, AsyncAnthropicVertex\n",
    "from claudette import Client, AsyncClient\n"
   ]
  },
  {
   "cell_type": "markdown",
   "metadata": {},
   "source": [
    "## Optional: Getting a GC Service Account Key File (SAKF)"
   ]
  },
  {
   "cell_type": "markdown",
   "metadata": {},
   "source": [
    "If you do not already have a Google CLoud Service Account Key File (SAKF), but you are already authenticated via Google cloud, these are the steps for getting a SAKF by using the Google Cloud API. "
   ]
  },
  {
   "cell_type": "markdown",
   "metadata": {},
   "source": [
    "### Creating a GC service account"
   ]
  },
  {
   "cell_type": "code",
   "execution_count": 30,
   "metadata": {},
   "outputs": [],
   "source": [
    "from IPython.display import Markdown\n",
    "from playwrightnb import url2md,read_page\n",
    "from ContextKit import read_gist"
   ]
  },
  {
   "cell_type": "code",
   "execution_count": 3,
   "metadata": {},
   "outputs": [],
   "source": [
    "sak_docs = read_gist('https://gist.github.com/jph00/3d12ac8ac76c7e7b3ef62dc889284838')"
   ]
  },
  {
   "cell_type": "code",
   "execution_count": 4,
   "metadata": {},
   "outputs": [],
   "source": [
    "# !pip install -q google-cloud-service-usage"
   ]
  },
  {
   "cell_type": "code",
   "execution_count": 5,
   "metadata": {},
   "outputs": [],
   "source": [
    "%%ai 0 -c\n",
    "I want to create a service account key file using the Python API documented in $`sak_docs`. Can you read the docs and confirm that all the needed info is there, before we begin?"
   ]
  },
  {
   "cell_type": "markdown",
   "metadata": {},
   "source": [
    "1. We'll need to use the `google.cloud.iam_admin_v1` client library\n",
    "2. The documentation notes that we'll need:\n",
    "   - project_id: The Google Cloud project ID\n",
    "   - account: The service account ID or email"
   ]
  },
  {
   "cell_type": "code",
   "execution_count": 6,
   "metadata": {},
   "outputs": [],
   "source": [
    "#| export\n",
    "import google.auth\n",
    "from google.cloud import iam_admin_v1\n",
    "from google.cloud.iam_admin_v1 import types\n",
    "from google.cloud import resourcemanager_v3\n",
    "from google.iam.v1 import policy_pb2"
   ]
  },
  {
   "cell_type": "markdown",
   "metadata": {},
   "source": [
    "We can work with Google's IAM API by using a client, assuming you have first run `gcloud auth application-default login`."
   ]
  },
  {
   "cell_type": "code",
   "execution_count": 8,
   "metadata": {},
   "outputs": [
    {
     "data": {
      "text/plain": [
       "'projects/jph001'"
      ]
     },
     "execution_count": 8,
     "metadata": {},
     "output_type": "execute_result"
    }
   ],
   "source": [
    "cli = iam_admin_v1.IAMClient()\n",
    "credentials, project_id = google.auth.default()\n",
    "project = f\"projects/{project_id}\"\n",
    "project"
   ]
  },
  {
   "cell_type": "markdown",
   "metadata": {},
   "source": [
    "We will need a \"service account\" with the appropriate permissions. You can check your account list like so:"
   ]
  },
  {
   "cell_type": "code",
   "execution_count": 9,
   "metadata": {},
   "outputs": [],
   "source": [
    "accounts = cli.list_service_accounts(name = project)\n",
    "# accounts"
   ]
  },
  {
   "cell_type": "markdown",
   "metadata": {},
   "source": [
    "...and here is how to create an account:"
   ]
  },
  {
   "cell_type": "code",
   "execution_count": 10,
   "metadata": {},
   "outputs": [],
   "source": [
    "account_id=\"aiservice\"\n",
    "display_name=\"Vertex AI Service Account\"\n",
    "description=\"Access Vertex AI\""
   ]
  },
  {
   "cell_type": "code",
   "execution_count": 11,
   "metadata": {},
   "outputs": [],
   "source": [
    "svc = dict(display_name=display_name, description=description)\n",
    "account = cli.create_service_account(name=project, account_id=account_id, service_account=svc)\n",
    "# account"
   ]
  },
  {
   "cell_type": "code",
   "execution_count": 13,
   "metadata": {},
   "outputs": [],
   "source": [
    "polcli = resourcemanager_v3.ProjectsClient()\n",
    "policy = polcli.get_iam_policy(resource=project)"
   ]
  },
  {
   "cell_type": "code",
   "execution_count": 15,
   "metadata": {},
   "outputs": [],
   "source": [
    "member = f\"serviceAccount:{account.email}\"\n",
    "roles = [ \"roles/aiplatform.user\", \"roles/servicemanagement.quotaViewer\", \"roles/servicemanagement.quotaAdmin\" ]"
   ]
  },
  {
   "cell_type": "code",
   "execution_count": 19,
   "metadata": {},
   "outputs": [],
   "source": [
    "for role in roles:\n",
    "    binding = policy_pb2.Binding()\n",
    "    binding.role = role\n",
    "    binding.members.append(member)\n",
    "    policy.bindings.append(binding)\n",
    "    \n",
    "polres = polcli.set_iam_policy(request={\"resource\": project, \"policy\": policy})"
   ]
  },
  {
   "cell_type": "markdown",
   "metadata": {},
   "source": [
    "### Creating a GC Service Account Key File from service account"
   ]
  },
  {
   "cell_type": "code",
   "execution_count": 21,
   "metadata": {},
   "outputs": [],
   "source": [
    "key = cli.create_service_account_key(name = f\"projects/{project_id}/serviceAccounts/{account.email}\")"
   ]
  },
  {
   "cell_type": "code",
   "execution_count": 34,
   "metadata": {},
   "outputs": [],
   "source": [
    "keyd = json.loads(key.private_key_data.decode())\n",
    "keyd['region'] = 'us-east5'\n",
    "keyb = json.dumps(keyd).encode()"
   ]
  },
  {
   "cell_type": "code",
   "execution_count": 36,
   "metadata": {},
   "outputs": [
    {
     "data": {
      "text/plain": [
       "2331"
      ]
     },
     "execution_count": 36,
     "metadata": {},
     "output_type": "execute_result"
    }
   ],
   "source": [
    "path = Path('service-account-key.json')\n",
    "path.write_bytes(keyb)"
   ]
  },
  {
   "cell_type": "code",
   "execution_count": 52,
   "metadata": {},
   "outputs": [],
   "source": [
    "nk = json.loads(path.read_text())\n",
    "# nk"
   ]
  },
  {
   "cell_type": "markdown",
   "metadata": {},
   "source": [
    "## Creating a vertexauth \"superkey\" to use for authentication"
   ]
  },
  {
   "cell_type": "markdown",
   "metadata": {},
   "source": [
    "A vertexauth \"superkey\" is just SAKF file with key/value pair added for the region, so that this file can be the ONLY resource a needs to install to use this library.\n",
    "\n",
    "If someone has given you a superkey, save it in `~/.config/vertexauth/default/superkey.json`.\n",
    "\n",
    "If you only have a SAKF file, save a superkey by calling the following function"
   ]
  },
  {
   "cell_type": "code",
   "execution_count": 6,
   "metadata": {},
   "outputs": [],
   "source": [
    "#| default_exp core\n",
    "\n",
    "SUPERKEY_DEFAULT_PATH = Path.home() / \".config\" / \"vertexauth\" / \"default\" / \"superkey.json\"\n",
    "\n",
    "def save_superkey_file(SAKF_path, region) -> Path:\n",
    "    d = json.loads(Path(SAKF_path)).read_text()\n",
    "    d[\"region\"] = region\n",
    "    SUPERKEY_DEFAULT_PATH.parent.mkdir(parents=True,exists_ok=True)\n",
    "    SUPERKEY_DEFAULT_PATH.write_text(json.dumps(d))\n",
    "    path.chmod(0o600)\n",
    "    return path"
   ]
  },
  {
   "cell_type": "markdown",
   "metadata": {},
   "source": [
    "## Authenticating to Claudette"
   ]
  },
  {
   "cell_type": "code",
   "execution_count": 7,
   "metadata": {},
   "outputs": [],
   "source": [
    "#| default_exp core\n",
    "\n",
    "def get_anthropic_client(asink=False,anthropic_kwargs=None):\n",
    "    d = json.loads(SUPERKEY_DEFAULT_PATH.read_text())\n",
    "    os.environ[\"GOOGLE_APPLICATION_CREDENTIALS\"] = str(SUPERKEY_DEFAULT_PATH)\n",
    "    os.environ[\"GOOGLE_CLOUD_PROJECT\"]           = d['project_id']\n",
    "    anthropic_kwargs = anthropic_kwargs or {}\n",
    "    AV = AnthropicVertex if not asink else AsyncAnthropicVertex\n",
    "    return AV(region=d['region'],project_id=d['project_id'], **anthropic_kwargs)    \n",
    "\n",
    "def get_claudette_client(vertex_model='claude-3-5-sonnet-v2@20241022', \n",
    "                         asink=False, anthropic_kwargs=None):\n",
    "    vertex_cli = get_anthropic_client(asink, anthropic_kwargs)\n",
    "    if asink: return AsyncClient(vertex_model, vertex_cli)\n",
    "    else: return Client(vertex_model, vertex_cli)"
   ]
  },
  {
   "cell_type": "markdown",
   "metadata": {},
   "source": [
    "## Using claudette"
   ]
  },
  {
   "cell_type": "code",
   "execution_count": 8,
   "metadata": {},
   "outputs": [],
   "source": [
    "cl = get_claudette_client()"
   ]
  },
  {
   "cell_type": "code",
   "execution_count": 9,
   "metadata": {},
   "outputs": [
    {
     "data": {
      "text/markdown": [
       "Hello! How can I help you today?\n",
       "\n",
       "<details>\n",
       "\n",
       "- id: `msg_vrtx_01VR4dF59fxMfGgxtMoXQ6jj`\n",
       "- content: `[{'text': 'Hello! How can I help you today?', 'type': 'text'}]`\n",
       "- model: `claude-3-5-sonnet-v2-20241022`\n",
       "- role: `assistant`\n",
       "- stop_reason: `end_turn`\n",
       "- stop_sequence: `None`\n",
       "- type: `message`\n",
       "- usage: `{'input_tokens': 8, 'output_tokens': 12}`\n",
       "\n",
       "</details>"
      ],
      "text/plain": [
       "Message(id='msg_vrtx_01VR4dF59fxMfGgxtMoXQ6jj', content=[TextBlock(text='Hello! How can I help you today?', type='text')], model='claude-3-5-sonnet-v2-20241022', role='assistant', stop_reason='end_turn', stop_sequence=None, type='message', usage=In: 8; Out: 12; Cache create: 0; Cache read: 0; Total: 20)"
      ]
     },
     "execution_count": 9,
     "metadata": {},
     "output_type": "execute_result"
    }
   ],
   "source": [
    "cl('hi')"
   ]
  },
  {
   "cell_type": "code",
   "execution_count": 84,
   "metadata": {},
   "outputs": [],
   "source": [
    "# cli.delete_service_account(name=f\"projects/{project_id}/serviceAccounts/aiservice@jph001.iam.gserviceaccount.com\")"
   ]
  },
  {
   "cell_type": "markdown",
   "metadata": {},
   "source": [
    "## Todo: quota management"
   ]
  },
  {
   "cell_type": "code",
   "execution_count": 29,
   "metadata": {},
   "outputs": [],
   "source": [
    "quota_docs = read_gist('https://gist.github.com/jph00/943c51623abfe0deae65cfad2d821169')\n",
    "svcuse_docs = read_gist('https://gist.github.com/jph00/042580724e98ae0cce2db50de92abd1b')"
   ]
  },
  {
   "cell_type": "code",
   "execution_count": 41,
   "metadata": {},
   "outputs": [],
   "source": [
    "from google.cloud import service_usage_v1"
   ]
  },
  {
   "cell_type": "code",
   "execution_count": 64,
   "metadata": {},
   "outputs": [],
   "source": [
    "%%ai 0 -c\n",
    "I want to make sure we have all the quotas we need. See the docs in $`quota_docs` for examples of the quota API, and $`svcuse_docs` for service usage API docs. Do you see anything in the docs which might help here?"
   ]
  },
  {
   "cell_type": "markdown",
   "metadata": {},
   "source": [
    "Yes I see some options we could use -- do you want me to outline them now?"
   ]
  },
  {
   "cell_type": "code",
   "execution_count": 75,
   "metadata": {},
   "outputs": [],
   "source": [
    "scli = service_usage_v1.ServiceUsageClient()\n",
    "services = scli.list_services(request={\"parent\": project, \"filter\":\"state:ENABLED\"})"
   ]
  },
  {
   "cell_type": "markdown",
   "metadata": {},
   "source": [
    "## export -"
   ]
  },
  {
   "cell_type": "code",
   "execution_count": null,
   "metadata": {},
   "outputs": [],
   "source": [
    "#| hide\n",
    "import nbdev; nbdev.nbdev_export()"
   ]
  }
 ],
 "metadata": {
  "kernelspec": {
   "display_name": "Python 3 (ipykernel)",
   "language": "python",
   "name": "python3"
  },
  "language_info": {
   "codemirror_mode": {
    "name": "ipython",
    "version": 3
   },
   "file_extension": ".py",
   "mimetype": "text/x-python",
   "name": "python",
   "nbconvert_exporter": "python",
   "pygments_lexer": "ipython3",
   "version": "3.12.0"
  }
 },
 "nbformat": 4,
 "nbformat_minor": 4
}
