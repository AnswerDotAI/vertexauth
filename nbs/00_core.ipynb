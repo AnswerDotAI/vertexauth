{
 "cells": [
  {
   "cell_type": "code",
   "execution_count": null,
   "metadata": {},
   "outputs": [],
   "source": [
    "#| default_exp core"
   ]
  },
  {
   "cell_type": "markdown",
   "metadata": {},
   "source": [
    "# core\n",
    "\n",
    "> Tiny helper to authenticate Claudette to Vertex AI"
   ]
  },
  {
   "cell_type": "code",
   "execution_count": null,
   "metadata": {},
   "outputs": [],
   "source": [
    "#| export\n",
    "import json, os\n",
    "from pathlib import Path\n",
    "from fastcore.utils import *\n",
    "\n",
    "from anthropic import AnthropicVertex, AsyncAnthropicVertex\n",
    "from claudette import Client, AsyncClient\n"
   ]
  },
  {
   "cell_type": "markdown",
   "metadata": {},
   "source": [
    "## Optional: Setting up to authenticate with Vertex AI"
   ]
  },
  {
   "cell_type": "markdown",
   "metadata": {},
   "source": [
    "If you already have the vertexauth \"superkey.json\", then you may skip this section and proceed to _Authenticating to Claudette_.\n",
    "\n",
    "Otherwise, this is example code to create a Google Cloud (GC) Service Account, and from there create a GC Service Account Key file, and from there create a vertexauth superkey.json"
   ]
  },
  {
   "cell_type": "markdown",
   "metadata": {},
   "source": [
    "### 1. Creating a GC service account"
   ]
  },
  {
   "cell_type": "code",
   "execution_count": null,
   "metadata": {},
   "outputs": [],
   "source": [
    "# !pip install -q google-cloud-service-usage google-cloud-iam google-cloud-resource-manager"
   ]
  },
  {
   "cell_type": "markdown",
   "metadata": {},
   "source": [
    "1. We'll need to use the `google.cloud.iam_admin_v1` client library\n",
    "2. The documentation notes that we'll need:\n",
    "   - project_id: The Google Cloud project ID\n",
    "   - account: The service account ID or email"
   ]
  },
  {
   "cell_type": "code",
   "execution_count": null,
   "metadata": {},
   "outputs": [],
   "source": [
    "#|eval: false\n",
    "\n",
    "import google.auth\n",
    "from google.cloud import iam_admin_v1\n",
    "from google.cloud.iam_admin_v1 import types\n",
    "from google.cloud import resourcemanager_v3\n",
    "from google.iam.v1 import policy_pb2"
   ]
  },
  {
   "cell_type": "markdown",
   "metadata": {},
   "source": [
    "We can work with Google's IAM API by using a client, assuming you have first run `gcloud auth application-default login`."
   ]
  },
  {
   "cell_type": "code",
   "execution_count": null,
   "metadata": {},
   "outputs": [],
   "source": [
    "project_id = 'jph001'"
   ]
  },
  {
   "cell_type": "code",
   "execution_count": null,
   "metadata": {},
   "outputs": [
    {
     "data": {
      "text/plain": [
       "'projects/jph001'"
      ]
     },
     "execution_count": null,
     "metadata": {},
     "output_type": "execute_result"
    }
   ],
   "source": [
    "#|eval: false\n",
    "\n",
    "cli = iam_admin_v1.IAMClient()\n",
    "credentials, project_id = google.auth.default()\n",
    "project = f\"projects/{project_id}\"\n",
    "project"
   ]
  },
  {
   "cell_type": "markdown",
   "metadata": {},
   "source": [
    "We will need a \"service account\" with the appropriate permissions. You can check your account list like so:"
   ]
  },
  {
   "cell_type": "code",
   "execution_count": null,
   "metadata": {},
   "outputs": [],
   "source": [
    "#|eval: false\n",
    "\n",
    "accounts = cli.list_service_accounts(name = project)\n",
    "# accounts"
   ]
  },
  {
   "cell_type": "markdown",
   "metadata": {},
   "source": [
    "...and here is how to create an account:"
   ]
  },
  {
   "cell_type": "code",
   "execution_count": null,
   "metadata": {},
   "outputs": [],
   "source": [
    "#|eval: false\n",
    "\n",
    "account_id=\"aiservice2\"\n",
    "display_name=\"Vertex AI Service Account 2\"\n",
    "description=\"Access Vertex AI\""
   ]
  },
  {
   "cell_type": "code",
   "execution_count": null,
   "metadata": {},
   "outputs": [],
   "source": [
    "#|eval: false\n",
    "\n",
    "svc = dict(display_name=display_name, description=description)\n",
    "account = cli.create_service_account(name=project, account_id=account_id, service_account=svc)\n",
    "# account"
   ]
  },
  {
   "cell_type": "code",
   "execution_count": null,
   "metadata": {},
   "outputs": [],
   "source": [
    "#|eval: false\n",
    "\n",
    "polcli = resourcemanager_v3.ProjectsClient()\n",
    "policy = polcli.get_iam_policy(resource=project)"
   ]
  },
  {
   "cell_type": "code",
   "execution_count": null,
   "metadata": {},
   "outputs": [],
   "source": [
    "#|eval: false\n",
    "\n",
    "member = f\"serviceAccount:{account.email}\"\n",
    "roles = [ \"roles/aiplatform.user\", \"roles/servicemanagement.quotaViewer\", \"roles/servicemanagement.quotaAdmin\" ]"
   ]
  },
  {
   "cell_type": "code",
   "execution_count": null,
   "metadata": {},
   "outputs": [],
   "source": [
    "#|eval: false\n",
    "\n",
    "for role in roles:\n",
    "    binding = policy_pb2.Binding()\n",
    "    binding.role = role\n",
    "    binding.members.append(member)\n",
    "    policy.bindings.append(binding)\n",
    "    \n",
    "polres = polcli.set_iam_policy(request={\"resource\": project, \"policy\": policy})"
   ]
  },
  {
   "cell_type": "markdown",
   "metadata": {},
   "source": [
    "(If you later wanted to delete a service account, you could the following:)"
   ]
  },
  {
   "cell_type": "code",
   "execution_count": null,
   "metadata": {},
   "outputs": [],
   "source": [
    "# cli.delete_service_account(name=f\"projects/{project_id}/serviceAccounts/aiservice@jph001.iam.gserviceaccount.com\")"
   ]
  },
  {
   "cell_type": "markdown",
   "metadata": {},
   "source": [
    "### 2. Creating a GC Service Account Key File (SAKF)"
   ]
  },
  {
   "cell_type": "code",
   "execution_count": null,
   "metadata": {},
   "outputs": [],
   "source": [
    "#|eval: false\n",
    "\n",
    "key = cli.create_service_account_key(name = f\"projects/{project_id}/serviceAccounts/{account.email}\")"
   ]
  },
  {
   "cell_type": "code",
   "execution_count": null,
   "metadata": {},
   "outputs": [],
   "source": [
    "#|eval: false\n",
    "\n",
    "keyd = json.loads(key.private_key_data.decode())\n",
    "keyb = json.dumps(keyd).encode()"
   ]
  },
  {
   "cell_type": "code",
   "execution_count": null,
   "metadata": {},
   "outputs": [
    {
     "data": {
      "text/plain": [
       "2329"
      ]
     },
     "execution_count": null,
     "metadata": {},
     "output_type": "execute_result"
    }
   ],
   "source": [
    "#|eval: false\n",
    "\n",
    "path = Path('service-account-key.json')\n",
    "path.write_bytes(keyb)"
   ]
  },
  {
   "cell_type": "markdown",
   "metadata": {},
   "source": [
    "### 3. Creating a vertexauth \"superkey\""
   ]
  },
  {
   "cell_type": "markdown",
   "metadata": {},
   "source": [
    "A vertexauth \"superkey\" is merely a SAKF file with a \"region\" key/value pair added so that it can be the only resource needed in order to use this library.\n",
    "\n",
    "If a colleague already gave you a superkey, save it in `~/.config/vertexauth/default/superkey.json`, and skip to the next section _Authenticating to Claudette_. But if you only have a SAKF JSON file, as created above or downloaded from the Google Cloud web UI, then you create and save a superkey as follows:"
   ]
  },
  {
   "cell_type": "code",
   "execution_count": null,
   "metadata": {},
   "outputs": [],
   "source": [
    "#| export\n",
    "\n",
    "SUPERKEY_DEFAULT_PATH = Path.home() / \".config\" / \"vertexauth\" / \"default\" / \"superkey.json\""
   ]
  },
  {
   "cell_type": "code",
   "execution_count": null,
   "metadata": {},
   "outputs": [],
   "source": [
    "def save_superkey_file(SAKF_path, region) -> Path:\n",
    "    d = json.loads(Path(SAKF_path).read_text())\n",
    "    d[\"region\"] = region\n",
    "    SUPERKEY_DEFAULT_PATH.parent.mkdir(parents=True,exist_ok=True)\n",
    "    SUPERKEY_DEFAULT_PATH.write_text(json.dumps(d))\n",
    "    SUPERKEY_DEFAULT_PATH.chmod(0o600)\n",
    "    return SUPERKEY_DEFAULT_PATH"
   ]
  },
  {
   "cell_type": "markdown",
   "metadata": {},
   "source": [
    "Save a superkey based on the path of the service account key we just created above and saved in `path`."
   ]
  },
  {
   "cell_type": "code",
   "execution_count": null,
   "metadata": {},
   "outputs": [
    {
     "data": {
      "text/plain": [
       "Path('/Users/alexis/.config/vertexauth/default/superkey.json')"
      ]
     },
     "execution_count": null,
     "metadata": {},
     "output_type": "execute_result"
    }
   ],
   "source": [
    "#|eval: false\n",
    "\n",
    "save_superkey_file(path,'us-east5')"
   ]
  },
  {
   "cell_type": "markdown",
   "metadata": {},
   "source": [
    "## Authenticating to Claudette"
   ]
  },
  {
   "cell_type": "markdown",
   "metadata": {},
   "source": [
    "Once you have a superkey file (i.e., a JSON SAKF plus a region key/value pair), then you can use these functions to create a claudette client or an Anthropic client."
   ]
  },
  {
   "cell_type": "code",
   "execution_count": null,
   "metadata": {},
   "outputs": [],
   "source": [
    "#| export\n",
    "\n",
    "def get_anthropic_client(asink=False,anthropic_kwargs=None):\n",
    "    d = json.loads(SUPERKEY_DEFAULT_PATH.read_text())\n",
    "    os.environ[\"GOOGLE_APPLICATION_CREDENTIALS\"] = str(SUPERKEY_DEFAULT_PATH)\n",
    "    os.environ[\"GOOGLE_CLOUD_PROJECT\"]           = d['project_id']\n",
    "    anthropic_kwargs = anthropic_kwargs or {}\n",
    "    AV = AnthropicVertex if not asink else AsyncAnthropicVertex\n",
    "    return AV(region=d['region'],project_id=d['project_id'], **anthropic_kwargs)    \n",
    "\n",
    "def get_claudette_client(vertex_model='claude-3-5-sonnet-v2@20241022', \n",
    "                         asink=False, anthropic_kwargs=None, cache=False):\n",
    "    vertex_cli = get_anthropic_client(asink, anthropic_kwargs)\n",
    "    if asink: return AsyncClient(vertex_model, vertex_cli, cache=cache)\n",
    "    else: return Client(vertex_model, vertex_cli, cache=cache)"
   ]
  },
  {
   "cell_type": "markdown",
   "metadata": {},
   "source": [
    "## Using claudette"
   ]
  },
  {
   "cell_type": "code",
   "execution_count": null,
   "metadata": {},
   "outputs": [],
   "source": [
    "#|eval: false\n",
    "\n",
    "cl = get_claudette_client()"
   ]
  },
  {
   "cell_type": "code",
   "execution_count": null,
   "metadata": {},
   "outputs": [
    {
     "data": {
      "text/markdown": [
       "Hello! How can I help you today?\n",
       "\n",
       "<details>\n",
       "\n",
       "- id: `msg_vrtx_013ZqSR5aJtQ1W6XkgsQ1FHP`\n",
       "- content: `[{'text': 'Hello! How can I help you today?', 'type': 'text'}]`\n",
       "- model: `claude-3-5-sonnet-v2-20241022`\n",
       "- role: `assistant`\n",
       "- stop_reason: `end_turn`\n",
       "- stop_sequence: `None`\n",
       "- type: `message`\n",
       "- usage: `{'input_tokens': 8, 'output_tokens': 12}`\n",
       "\n",
       "</details>"
      ],
      "text/plain": [
       "Message(id='msg_vrtx_013ZqSR5aJtQ1W6XkgsQ1FHP', content=[TextBlock(text='Hello! How can I help you today?', type='text')], model='claude-3-5-sonnet-v2-20241022', role='assistant', stop_reason='end_turn', stop_sequence=None, type='message', usage=In: 8; Out: 12; Cache create: 0; Cache read: 0; Total: 20)"
      ]
     },
     "execution_count": null,
     "metadata": {},
     "output_type": "execute_result"
    }
   ],
   "source": [
    "#|eval: false\n",
    "\n",
    "cl('hi')"
   ]
  },
  {
   "cell_type": "markdown",
   "metadata": {},
   "source": [
    "## Todo: quota management"
   ]
  },
  {
   "cell_type": "code",
   "execution_count": null,
   "metadata": {},
   "outputs": [],
   "source": [
    "#|eval: false\n",
    "\n",
    "quota_docs = read_gist('https://gist.github.com/jph00/943c51623abfe0deae65cfad2d821169')\n",
    "svcuse_docs = read_gist('https://gist.github.com/jph00/042580724e98ae0cce2db50de92abd1b')"
   ]
  },
  {
   "cell_type": "code",
   "execution_count": null,
   "metadata": {},
   "outputs": [],
   "source": [
    "#|eval: false\n",
    "\n",
    "from google.cloud import service_usage_v1"
   ]
  },
  {
   "cell_type": "markdown",
   "metadata": {},
   "source": [
    "Yes I see some options we could use -- do you want me to outline them now?"
   ]
  },
  {
   "cell_type": "code",
   "execution_count": null,
   "metadata": {},
   "outputs": [],
   "source": [
    "#|eval: false\n",
    "\n",
    "scli = service_usage_v1.ServiceUsageClient()\n",
    "services = scli.list_services(request={\"parent\": project, \"filter\":\"state:ENABLED\"})"
   ]
  },
  {
   "cell_type": "markdown",
   "metadata": {},
   "source": [
    "## export -"
   ]
  },
  {
   "cell_type": "code",
   "execution_count": null,
   "metadata": {},
   "outputs": [],
   "source": [
    "#| hide\n",
    "import nbdev; nbdev.nbdev_export()"
   ]
  }
 ],
 "metadata": {
  "kernelspec": {
   "display_name": "python3",
   "language": "python",
   "name": "python3"
  }
 },
 "nbformat": 4,
 "nbformat_minor": 4
}
